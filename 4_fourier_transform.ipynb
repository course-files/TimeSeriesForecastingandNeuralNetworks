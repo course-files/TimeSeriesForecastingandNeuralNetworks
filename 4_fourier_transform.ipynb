{
 "cells": [
  {
   "metadata": {},
   "cell_type": "markdown",
   "source": [
    "# Fourier Transform Example: Decomposing a Complex Seasonal Pattern\n",
    "\n",
    "- The Fourier Transform is a powerful mathematical tool used to analyze the frequency components of signals. In this example, we demonstrate how a complex seasonal pattern can be decomposed into simpler sine waves using the Fourier Transform.\n",
    "    - We create a synthetic signal that combines multiple sine waves of different frequencies and amplitudes to simulate a complex seasonal pattern. We then visualize the individual components and their sum.\n",
    "    - The individual components can be used to reconstruct the original signal. The sum of the individual components is the original signal."
   ],
   "id": "e5c8134748f2d6f"
  },
  {
   "metadata": {},
   "cell_type": "code",
   "source": [
    "import numpy as np\n",
    "import matplotlib.pyplot as plt\n",
    "\n",
    "# Time axis\n",
    "t = np.linspace(0, 2*np.pi, 500)\n",
    "\n",
    "# Define \"complex\" signal as sum of waves\n",
    "long_wave = np.sin(t)                     # slow yearly cycle\n",
    "medium_wave = 0.5 * np.sin(4*t)           # monthly cycle\n",
    "short_wave = 0.2 * np.sin(10*t)           # weekly cycle\n",
    "complex_signal = long_wave + medium_wave + short_wave"
   ],
   "id": "93474a8a8ae1e5c7",
   "outputs": [],
   "execution_count": null
  },
  {
   "metadata": {},
   "cell_type": "code",
   "source": [
    "\n",
    "# Plot decomposition\n",
    "plt.figure(figsize=(10, 8))\n",
    "\n",
    "plt.subplot(4,1,1)\n",
    "plt.plot(t, long_wave, 'g')\n",
    "plt.title(\"Long wave (e.g., yearly cycle)\")\n",
    "\n",
    "plt.subplot(4,1,2)\n",
    "plt.plot(t, medium_wave, 'b')\n",
    "plt.title(\"Medium wave (e.g., monthly cycle)\")\n",
    "\n",
    "plt.subplot(4,1,3)\n",
    "plt.plot(t, short_wave, 'r')\n",
    "plt.title(\"Short wave (e.g., weekly cycle)\")\n",
    "\n",
    "plt.subplot(4,1,4)\n",
    "plt.plot(t, complex_signal, 'k')\n",
    "plt.title(\"Sum = Complex seasonal pattern\")\n",
    "\n",
    "plt.tight_layout()\n",
    "plt.show()"
   ],
   "id": "c91a40e2e519dd35",
   "outputs": [],
   "execution_count": null
  }
 ],
 "metadata": {
  "kernelspec": {
   "display_name": "Python 3",
   "language": "python",
   "name": "python3"
  },
  "language_info": {
   "codemirror_mode": {
    "name": "ipython",
    "version": 2
   },
   "file_extension": ".py",
   "mimetype": "text/x-python",
   "name": "python",
   "nbconvert_exporter": "python",
   "pygments_lexer": "ipython2",
   "version": "2.7.6"
  }
 },
 "nbformat": 4,
 "nbformat_minor": 5
}
